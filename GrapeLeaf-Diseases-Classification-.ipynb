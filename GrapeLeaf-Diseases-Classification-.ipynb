{
 "cells": [
  {
   "cell_type": "markdown",
   "metadata": {},
   "source": [
    "# GRAPE LEAF DISEASES CLASSIFICATION\n",
    "### ABSTRACT\n",
    "**_Grapes can be grown in most parts of Turkey. It is produced intensively, especially in Manisa/Alaşehir, the city where I live.My father and mother are agricultural engineers and they are trying to find solutions for this issue but if these can be detected early.It will be easier to do this on large terrains with the drone..When I took this project, I wanted to help them in this issue.This project is to classify diseases data and healthy data.I'm going to do here is my next project, \"Grape Leaf Detection in Real Time with Drone\" and this is my graduation thesis.The rate of success in classification is very high and this situation is more successful for my think than a person._**"
   ]
  },
  {
   "cell_type": "markdown",
   "metadata": {},
   "source": [
    "<img src=\"https://debuggercafe.com/wp-content/uploads/2019/12/Deep-Learning-with-PyTorch_-Image-Classification-using-Neural-Networks-e1575723823498.jpg\" width=\"600\" height=\"300\" />"
   ]
  },
  {
   "cell_type": "code",
   "execution_count": 1,
   "metadata": {},
   "outputs": [],
   "source": [
    "import numpy as np \n",
    "import pandas as pd \n",
    "import os\n",
    "import torch\n",
    "import torchvision\n",
    "import torch.nn as nn\n",
    "import torchvision.datasets as datasets \n",
    "import torchvision.transforms as transforms \n",
    "import torch.nn.functional as F \n",
    "from torch.utils.data import DataLoader, Dataset \n",
    "from torchvision.datasets import ImageFolder\n",
    "import torch.optim as optim \n",
    "from PIL import Image\n",
    "from sklearn.model_selection import train_test_split\n",
    "import tensorflow as tf\n",
    "from tqdm import tqdm"
   ]
  },
  {
   "cell_type": "markdown",
   "metadata": {},
   "source": [
    "- **CUDA allows the code to be executed by the GPU. And first we look at whether we are using the GPU or the CPU. And if you have an NVIDIA graphics card, CUDA can be used.**\n",
    "- **We take the data and break the data (train, test, labels).**\n",
    "- **We are checking if there is an error in the number of images in the dataset.**\n",
    "- **We take the data and split the data (train, test, labels).**"
   ]
  },
  {
   "cell_type": "code",
   "execution_count": 2,
   "metadata": {},
   "outputs": [
    {
     "name": "stdout",
     "output_type": "stream",
     "text": [
      "cuda\n"
     ]
    },
    {
     "data": {
      "text/plain": [
       "3208"
      ]
     },
     "execution_count": 2,
     "metadata": {},
     "output_type": "execute_result"
    }
   ],
   "source": [
    "device = torch.device(\"cuda\" if torch.cuda.is_available() else \"cpu\") # use gpu or cpu\n",
    "print(device)\n",
    "\n",
    "dataset= datasets.ImageFolder(r'/home/ege/WORKSPACE/deepLearning/datasets/grape_leaf_new/Grapes Leaves Dataset (images)/train')\n",
    "train_data, test_data, train_label, test_label = train_test_split(dataset.imgs, dataset.targets, test_size=0.2, random_state=42)\n",
    "\n",
    "for index,value in enumerate(dataset.samples):\n",
    "    dataset_index=index\n",
    "dataset_index"
   ]
  },
  {
   "cell_type": "markdown",
   "metadata": {},
   "source": [
    "\n",
    "- **This class is generally used in most CNNs. Because the data is checked in connection with each other in a single class. If it is not binary, it is perceived as data.(Only RGB)**"
   ]
  },
  {
   "cell_type": "code",
   "execution_count": 3,
   "metadata": {},
   "outputs": [],
   "source": [
    "class ImageLoader(Dataset):\n",
    "    def __init__(self, dataset, transform=None):\n",
    "        self.dataset = self.checkChannel(dataset) # some images are Grayscale, check only RGB \n",
    "        self.transform = transform\n",
    "    \n",
    "    def __len__(self):\n",
    "        return len(self.dataset)\n",
    "    \n",
    "    def __getitem__(self, item):\n",
    "        image = Image.open(self.dataset[item][0])\n",
    "        classCategory = self.dataset[item][1]\n",
    "        if self.transform:\n",
    "            image = self.transform(image)\n",
    "        return image, classCategory\n",
    "        \n",
    "    \n",
    "    def checkChannel(self, dataset):\n",
    "        datasetRGB = []\n",
    "        for index in range(len(dataset)):\n",
    "            if (Image.open(dataset[index][0]).getbands() == (\"R\", \"G\", \"B\")): # Check Channels\n",
    "                datasetRGB.append(dataset[index])\n",
    "        return datasetRGB"
   ]
  },
  {
   "cell_type": "markdown",
   "metadata": {},
   "source": [
    "## Transform and Data Loader\n",
    "- **In the picture below, the transform is clearly understood. Coloring is applied to the pictures and some parts are cut randomly, and blur is added to it,etc.**\n",
    "- **We apply transform to test data and train data. We enter the ImageLoader class.**\n",
    "- **Finally, we determine the batch_size to prepare our data for training and testing. And we mix the data with the shuffle process.**\n",
    "\n",
    "- ![transform](https://pytorch.org/vision/stable/_images/sphx_glr_plot_transforms_thumb.png)\n"
   ]
  },
  {
   "cell_type": "code",
   "execution_count": 4,
   "metadata": {},
   "outputs": [
    {
     "name": "stderr",
     "output_type": "stream",
     "text": [
      "/home/ege/anaconda3/envs/deepLearning/lib/python3.9/site-packages/torchvision/transforms/transforms.py:935: UserWarning: The use of the transforms.RandomSizedCrop transform is deprecated, please use transforms.RandomResizedCrop instead.\n",
      "  warnings.warn(\"The use of the transforms.RandomSizedCrop transform is deprecated, \" +\n",
      "/home/ege/anaconda3/envs/deepLearning/lib/python3.9/site-packages/torchvision/transforms/transforms.py:317: UserWarning: The use of the transforms.Scale transform is deprecated, please use transforms.Resize instead.\n",
      "  warnings.warn(\"The use of the transforms.Scale transform is deprecated, \" +\n"
     ]
    }
   ],
   "source": [
    "normalize = transforms.Normalize(mean=[0.485, 0.456, 0.406],\n",
    "                                 std=[0.229, 0.224, 0.225])\n",
    "\n",
    "train_trans = transforms.Compose([\n",
    "    transforms.RandomSizedCrop(224),\n",
    "    transforms.RandomHorizontalFlip(),\n",
    "    transforms.ToTensor(),\n",
    "    normalize,\n",
    "])\n",
    "\n",
    "test_trans = transforms.Compose([\n",
    "    transforms.Scale(256),\n",
    "    transforms.CenterCrop(224),\n",
    "    transforms.ToTensor(),\n",
    "    normalize,\n",
    "])\n",
    "\n",
    "train_dataset = ImageLoader(train_data, train_trans)\n",
    "test_dataset = ImageLoader(test_data, test_trans)\n",
    "\n",
    "train_loader = DataLoader(train_dataset, batch_size=16, shuffle=True)\n",
    "test_loader = DataLoader(test_dataset,batch_size=8, shuffle=True)"
   ]
  },
  {
   "cell_type": "markdown",
   "metadata": {},
   "source": [
    "## Model\n",
    "- **I used Resnet50, a ready-made model.Normally, as the complexity increases, there may be distortions. Resnet50 is a model that finds solutions to these.**\n",
    "- **This criterion computes the cross entropy loss between input and target.Parameters are optionally contained within themselves.**\n",
    "- **Implements stochastic gradient descent (optionally with momentum).SGD is slower than other optims.**\n",
    "- **Set the learning rate of each parameter group using a cosine annealing schedule, where ηmaxis set to the initial lr and Tcur is the number of epochs since the last restart in SGDR:**\n",
    "\n",
    "![alt text](https://miro.medium.com/max/400/1*QliXNPvhajME5ysUXfPROA.gif)"
   ]
  },
  {
   "cell_type": "code",
   "execution_count": 5,
   "metadata": {},
   "outputs": [],
   "source": [
    "from torchvision.models import resnet50\n",
    "\n",
    "model = resnet50(pretrained=True).cuda()\n",
    "\n",
    "for param in model.parameters():\n",
    "    param.requires_grad = False\n",
    "model.fc = nn.Sequential(\n",
    "    nn.Linear(2048, 270),\n",
    "    nn.ReLU(inplace=True),\n",
    "    nn.Linear(270, 90),\n",
    "    nn.ReLU(inplace=True),\n",
    "    nn.Linear(90, 4)).cuda()\n",
    "model.to(device)\n",
    "\n",
    "criterion = nn.CrossEntropyLoss()\n",
    "optimizer = optim.SGD(model.parameters(), lr=0.01,\n",
    "                      momentum=0.9, weight_decay=5e-4)\n",
    "scheduler = torch.optim.lr_scheduler.CosineAnnealingLR(optimizer, T_max=200) #T_max= Maximum number of iterations."
   ]
  },
  {
   "cell_type": "markdown",
   "metadata": {},
   "source": [
    "## Train-Test"
   ]
  },
  {
   "cell_type": "code",
   "execution_count": 6,
   "metadata": {},
   "outputs": [],
   "source": [
    "train_accu=[]\n",
    "losses_train = []\n",
    "def train(epoch):\n",
    "    loop = tqdm(enumerate(train_loader), total=len(train_loader)) # create a progress bar\n",
    "    model.train()\n",
    "    train_loss = 0\n",
    "    correct = 0\n",
    "    total = 0\n",
    "    for batch_idx, (inputs, targets) in enumerate(train_loader):\n",
    "        inputs, targets = inputs.to(device), targets.to(device)\n",
    "        optimizer.zero_grad()\n",
    "        outputs = model(inputs)\n",
    "        loss = criterion(outputs, targets)\n",
    "        loss.backward()\n",
    "        optimizer.step()\n",
    "        losses_train.append(loss)\n",
    "        train_loss += loss.item()\n",
    "        _, predicted = outputs.max(1)\n",
    "        total += targets.size(0)\n",
    "        correct += predicted.eq(targets).sum().item()\n",
    "        loop.set_description(f\"Epoch {epoch+1}/{last_epoch} process: {int((batch_idx / len(train_loader)) * 100)}\")\n",
    "        loop.set_postfix(loss=loss.data.item()) \n",
    "    accuracy_train = int(correct / len(train_loader.dataset) * 100)\n",
    "    train_accu.append(accuracy_train)\n",
    "\n",
    "\n",
    "\n",
    "    \n",
    "best_acc = 0 \n",
    "losses_test = []\n",
    "y_true=[]\n",
    "y_pred=[]\n",
    "eval_accu=[]\n",
    "def test(epoch):\n",
    "    global best_acc\n",
    "    model.eval()\n",
    "    test_loss = 0\n",
    "    correct = 0\n",
    "    total = 0\n",
    "    with torch.no_grad():\n",
    "        for batch_idx, (inputs, targets) in enumerate(test_loader):\n",
    "            inputs, targets = inputs.to(device), targets.to(device)\n",
    "            outputs = model(inputs)\n",
    "            loss = criterion(outputs, targets)\n",
    "            test_loss += loss.item()\n",
    "            _, predicted = outputs.max(1)\n",
    "            total += targets.size(0)\n",
    "            correct += predicted.eq(targets).sum().item()\n",
    "            losses_test.append(test_loss)\n",
    "            y_true.append(targets)\n",
    "            y_pred.append(predicted)\n",
    "\n",
    "    accuracy_test =int(correct / len(test_loader.dataset) * 100)\n",
    "    eval_accu.append(accuracy_test)\n",
    "    print(\"Average Loss: \", test_loss, \"  Accuracy: \", correct, \" / \",\n",
    "    len(test_loader.dataset), \"  \", int(correct / len(test_loader.dataset) * 100), \"%\")\n",
    "\n",
    "    # Save checkpoint.\n",
    "    acc = 100.*correct/total\n",
    "    if acc > best_acc:\n",
    "        print('Saving..')\n",
    "        state = {\n",
    "            'net': model.state_dict(),\n",
    "            'acc': acc,\n",
    "            'epoch': epoch,\n",
    "        }\n",
    "        if not os.path.isdir('checkpoint'):\n",
    "            os.mkdir('checkpoint')\n",
    "        torch.save(state, './checkpoint/ckpt.pth')\n",
    "        best_acc = acc\n",
    "\n",
    "\n"
   ]
  },
  {
   "cell_type": "code",
   "execution_count": 7,
   "metadata": {},
   "outputs": [
    {
     "name": "stderr",
     "output_type": "stream",
     "text": [
      "Epoch 1/200 process: 99:   0%|          | 0/161 [00:13<?, ?it/s, loss=0.422] \n"
     ]
    },
    {
     "name": "stdout",
     "output_type": "stream",
     "text": [
      "Average Loss:  18.492394021246582   Accuracy:  581  /  642    90 %\n",
      "Saving..\n"
     ]
    },
    {
     "name": "stderr",
     "output_type": "stream",
     "text": [
      "Epoch 2/200 process: 99:   0%|          | 0/161 [00:13<?, ?it/s, loss=0.0165]\n"
     ]
    },
    {
     "name": "stdout",
     "output_type": "stream",
     "text": [
      "Average Loss:  7.077695869607851   Accuracy:  624  /  642    97 %\n",
      "Saving..\n"
     ]
    },
    {
     "name": "stderr",
     "output_type": "stream",
     "text": [
      "Epoch 3/200 process: 99:   0%|          | 0/161 [00:13<?, ?it/s, loss=0.317]  \n"
     ]
    },
    {
     "name": "stdout",
     "output_type": "stream",
     "text": [
      "Average Loss:  4.994800050393678   Accuracy:  626  /  642    97 %\n",
      "Saving..\n"
     ]
    },
    {
     "name": "stderr",
     "output_type": "stream",
     "text": [
      "Epoch 4/200 process: 99:   0%|          | 0/161 [00:13<?, ?it/s, loss=0.623] \n"
     ]
    },
    {
     "name": "stdout",
     "output_type": "stream",
     "text": [
      "Average Loss:  4.830947917886078   Accuracy:  630  /  642    98 %\n",
      "Saving..\n"
     ]
    },
    {
     "name": "stderr",
     "output_type": "stream",
     "text": [
      "Epoch 5/200 process: 99:   0%|          | 0/161 [00:13<?, ?it/s, loss=0.193] \n"
     ]
    },
    {
     "name": "stdout",
     "output_type": "stream",
     "text": [
      "Average Loss:  5.539250005691429   Accuracy:  624  /  642    97 %\n"
     ]
    },
    {
     "name": "stderr",
     "output_type": "stream",
     "text": [
      "Epoch 6/200 process: 99:   0%|          | 0/161 [00:13<?, ?it/s, loss=0.703]  \n"
     ]
    },
    {
     "name": "stdout",
     "output_type": "stream",
     "text": [
      "Average Loss:  6.854882952902699   Accuracy:  620  /  642    96 %\n"
     ]
    },
    {
     "name": "stderr",
     "output_type": "stream",
     "text": [
      "Epoch 7/200 process: 99:   0%|          | 0/161 [00:14<?, ?it/s, loss=0.232]  \n"
     ]
    },
    {
     "name": "stdout",
     "output_type": "stream",
     "text": [
      "Average Loss:  9.927150383824483   Accuracy:  618  /  642    96 %\n"
     ]
    },
    {
     "name": "stderr",
     "output_type": "stream",
     "text": [
      "Epoch 8/200 process: 99:   0%|          | 0/161 [00:14<?, ?it/s, loss=0.503]   \n"
     ]
    },
    {
     "name": "stdout",
     "output_type": "stream",
     "text": [
      "Average Loss:  20.13219346711412   Accuracy:  581  /  642    90 %\n"
     ]
    },
    {
     "name": "stderr",
     "output_type": "stream",
     "text": [
      "Epoch 9/200 process: 99:   0%|          | 0/161 [00:14<?, ?it/s, loss=0.0533] \n"
     ]
    },
    {
     "name": "stdout",
     "output_type": "stream",
     "text": [
      "Average Loss:  4.277680449129548   Accuracy:  629  /  642    97 %\n"
     ]
    },
    {
     "name": "stderr",
     "output_type": "stream",
     "text": [
      "Epoch 10/200 process: 99:   0%|          | 0/161 [00:14<?, ?it/s, loss=0.247]  \n"
     ]
    },
    {
     "name": "stdout",
     "output_type": "stream",
     "text": [
      "Average Loss:  6.320818393054651   Accuracy:  625  /  642    97 %\n"
     ]
    },
    {
     "name": "stderr",
     "output_type": "stream",
     "text": [
      "Epoch 11/200 process: 99:   0%|          | 0/161 [00:14<?, ?it/s, loss=0.0991] \n"
     ]
    },
    {
     "name": "stdout",
     "output_type": "stream",
     "text": [
      "Average Loss:  4.191336158430204   Accuracy:  631  /  642    98 %\n",
      "Saving..\n"
     ]
    },
    {
     "name": "stderr",
     "output_type": "stream",
     "text": [
      "Epoch 12/200 process: 99:   0%|          | 0/161 [00:14<?, ?it/s, loss=0.041]  \n"
     ]
    },
    {
     "name": "stdout",
     "output_type": "stream",
     "text": [
      "Average Loss:  7.171504183595516   Accuracy:  622  /  642    96 %\n"
     ]
    },
    {
     "name": "stderr",
     "output_type": "stream",
     "text": [
      "Epoch 13/200 process: 99:   0%|          | 0/161 [00:14<?, ?it/s, loss=0.85]   \n"
     ]
    },
    {
     "name": "stdout",
     "output_type": "stream",
     "text": [
      "Average Loss:  7.839595607452793   Accuracy:  617  /  642    96 %\n"
     ]
    },
    {
     "name": "stderr",
     "output_type": "stream",
     "text": [
      "Epoch 14/200 process: 99:   0%|          | 0/161 [00:14<?, ?it/s, loss=0.424]  \n"
     ]
    },
    {
     "name": "stdout",
     "output_type": "stream",
     "text": [
      "Average Loss:  4.00391075987136   Accuracy:  630  /  642    98 %\n"
     ]
    },
    {
     "name": "stderr",
     "output_type": "stream",
     "text": [
      "Epoch 15/200 process: 99:   0%|          | 0/161 [00:14<?, ?it/s, loss=0.027]  \n"
     ]
    },
    {
     "name": "stdout",
     "output_type": "stream",
     "text": [
      "Average Loss:  6.640111928456463   Accuracy:  627  /  642    97 %\n"
     ]
    },
    {
     "name": "stderr",
     "output_type": "stream",
     "text": [
      "Epoch 16/200 process: 99:   0%|          | 0/161 [00:14<?, ?it/s, loss=0.332]   \n"
     ]
    },
    {
     "name": "stdout",
     "output_type": "stream",
     "text": [
      "Average Loss:  4.851075903396122   Accuracy:  626  /  642    97 %\n"
     ]
    },
    {
     "name": "stderr",
     "output_type": "stream",
     "text": [
      "Epoch 17/200 process: 99:   0%|          | 0/161 [00:14<?, ?it/s, loss=0.0224] \n"
     ]
    },
    {
     "name": "stdout",
     "output_type": "stream",
     "text": [
      "Average Loss:  5.748080530902371   Accuracy:  628  /  642    97 %\n"
     ]
    },
    {
     "name": "stderr",
     "output_type": "stream",
     "text": [
      "Epoch 18/200 process: 99:   0%|          | 0/161 [00:14<?, ?it/s, loss=0.501]  \n"
     ]
    },
    {
     "name": "stdout",
     "output_type": "stream",
     "text": [
      "Average Loss:  5.798719442675065   Accuracy:  623  /  642    97 %\n"
     ]
    },
    {
     "name": "stderr",
     "output_type": "stream",
     "text": [
      "Epoch 19/200 process: 99:   0%|          | 0/161 [00:14<?, ?it/s, loss=0.47]   \n"
     ]
    },
    {
     "name": "stdout",
     "output_type": "stream",
     "text": [
      "Average Loss:  12.371836547885323   Accuracy:  607  /  642    94 %\n"
     ]
    },
    {
     "name": "stderr",
     "output_type": "stream",
     "text": [
      "Epoch 20/200 process: 99:   0%|          | 0/161 [00:14<?, ?it/s, loss=0.0527] \n"
     ]
    },
    {
     "name": "stdout",
     "output_type": "stream",
     "text": [
      "Average Loss:  7.606135042500682   Accuracy:  621  /  642    96 %\n"
     ]
    },
    {
     "name": "stderr",
     "output_type": "stream",
     "text": [
      "Epoch 21/200 process: 99:   0%|          | 0/161 [00:14<?, ?it/s, loss=1.16]   \n"
     ]
    },
    {
     "name": "stdout",
     "output_type": "stream",
     "text": [
      "Average Loss:  5.7795638111492735   Accuracy:  626  /  642    97 %\n"
     ]
    },
    {
     "name": "stderr",
     "output_type": "stream",
     "text": [
      "Epoch 22/200 process: 99:   0%|          | 0/161 [00:14<?, ?it/s, loss=0.175]  \n"
     ]
    },
    {
     "name": "stdout",
     "output_type": "stream",
     "text": [
      "Average Loss:  3.85009372595232   Accuracy:  632  /  642    98 %\n",
      "Saving..\n"
     ]
    },
    {
     "name": "stderr",
     "output_type": "stream",
     "text": [
      "Epoch 23/200 process: 99:   0%|          | 0/161 [00:14<?, ?it/s, loss=0.375]  \n"
     ]
    },
    {
     "name": "stdout",
     "output_type": "stream",
     "text": [
      "Average Loss:  4.7778965518809855   Accuracy:  629  /  642    97 %\n"
     ]
    },
    {
     "name": "stderr",
     "output_type": "stream",
     "text": [
      "Epoch 24/200 process: 99:   0%|          | 0/161 [00:14<?, ?it/s, loss=0.267]  \n"
     ]
    },
    {
     "name": "stdout",
     "output_type": "stream",
     "text": [
      "Average Loss:  3.7105275511275977   Accuracy:  635  /  642    98 %\n",
      "Saving..\n"
     ]
    },
    {
     "name": "stderr",
     "output_type": "stream",
     "text": [
      "Epoch 25/200 process: 99:   0%|          | 0/161 [00:14<?, ?it/s, loss=0.0908] \n"
     ]
    },
    {
     "name": "stdout",
     "output_type": "stream",
     "text": [
      "Average Loss:  5.245865196309751   Accuracy:  633  /  642    98 %\n"
     ]
    },
    {
     "name": "stderr",
     "output_type": "stream",
     "text": [
      "Epoch 26/200 process: 99:   0%|          | 0/161 [00:14<?, ?it/s, loss=0.00602]\n"
     ]
    },
    {
     "name": "stdout",
     "output_type": "stream",
     "text": [
      "Average Loss:  3.9054089310411655   Accuracy:  631  /  642    98 %\n"
     ]
    },
    {
     "name": "stderr",
     "output_type": "stream",
     "text": [
      "Epoch 27/200 process: 99:   0%|          | 0/161 [00:14<?, ?it/s, loss=0.157]  \n"
     ]
    },
    {
     "name": "stdout",
     "output_type": "stream",
     "text": [
      "Average Loss:  5.454560677768313   Accuracy:  627  /  642    97 %\n"
     ]
    },
    {
     "name": "stderr",
     "output_type": "stream",
     "text": [
      "Epoch 28/200 process: 99:   0%|          | 0/161 [00:13<?, ?it/s, loss=0.031]  \n"
     ]
    },
    {
     "name": "stdout",
     "output_type": "stream",
     "text": [
      "Average Loss:  3.06506940536201   Accuracy:  633  /  642    98 %\n"
     ]
    },
    {
     "name": "stderr",
     "output_type": "stream",
     "text": [
      "Epoch 29/200 process: 99:   0%|          | 0/161 [00:14<?, ?it/s, loss=0.0551] \n"
     ]
    },
    {
     "name": "stdout",
     "output_type": "stream",
     "text": [
      "Average Loss:  4.538744810037315   Accuracy:  630  /  642    98 %\n"
     ]
    },
    {
     "name": "stderr",
     "output_type": "stream",
     "text": [
      "Epoch 30/200 process: 99:   0%|          | 0/161 [00:14<?, ?it/s, loss=0.336]  \n"
     ]
    },
    {
     "name": "stdout",
     "output_type": "stream",
     "text": [
      "Average Loss:  3.1045762744324747   Accuracy:  633  /  642    98 %\n"
     ]
    },
    {
     "name": "stderr",
     "output_type": "stream",
     "text": [
      "Epoch 31/200 process: 99:   0%|          | 0/161 [00:14<?, ?it/s, loss=0.00896]\n"
     ]
    },
    {
     "name": "stdout",
     "output_type": "stream",
     "text": [
      "Average Loss:  6.451401525322581   Accuracy:  625  /  642    97 %\n"
     ]
    },
    {
     "name": "stderr",
     "output_type": "stream",
     "text": [
      "Epoch 32/200 process: 99:   0%|          | 0/161 [00:14<?, ?it/s, loss=0.259]  \n"
     ]
    },
    {
     "name": "stdout",
     "output_type": "stream",
     "text": [
      "Average Loss:  4.805622805200983   Accuracy:  627  /  642    97 %\n"
     ]
    },
    {
     "name": "stderr",
     "output_type": "stream",
     "text": [
      "Epoch 33/200 process: 99:   0%|          | 0/161 [00:14<?, ?it/s, loss=0.101]  \n"
     ]
    },
    {
     "name": "stdout",
     "output_type": "stream",
     "text": [
      "Average Loss:  5.827027675113641   Accuracy:  626  /  642    97 %\n"
     ]
    },
    {
     "name": "stderr",
     "output_type": "stream",
     "text": [
      "Epoch 34/200 process: 99:   0%|          | 0/161 [00:14<?, ?it/s, loss=0.0857] \n"
     ]
    },
    {
     "name": "stdout",
     "output_type": "stream",
     "text": [
      "Average Loss:  3.7810796263365773   Accuracy:  632  /  642    98 %\n"
     ]
    },
    {
     "name": "stderr",
     "output_type": "stream",
     "text": [
      "Epoch 35/200 process: 99:   0%|          | 0/161 [00:14<?, ?it/s, loss=0.162]  \n"
     ]
    },
    {
     "name": "stdout",
     "output_type": "stream",
     "text": [
      "Average Loss:  3.581820932624396   Accuracy:  634  /  642    98 %\n"
     ]
    },
    {
     "name": "stderr",
     "output_type": "stream",
     "text": [
      "Epoch 36/200 process: 99:   0%|          | 0/161 [00:14<?, ?it/s, loss=0.00427]\n"
     ]
    },
    {
     "name": "stdout",
     "output_type": "stream",
     "text": [
      "Average Loss:  3.1474253598134965   Accuracy:  633  /  642    98 %\n"
     ]
    },
    {
     "name": "stderr",
     "output_type": "stream",
     "text": [
      "Epoch 37/200 process: 99:   0%|          | 0/161 [00:14<?, ?it/s, loss=0.137]  \n"
     ]
    },
    {
     "name": "stdout",
     "output_type": "stream",
     "text": [
      "Average Loss:  3.750293948702165   Accuracy:  633  /  642    98 %\n"
     ]
    },
    {
     "name": "stderr",
     "output_type": "stream",
     "text": [
      "Epoch 38/200 process: 99:   0%|          | 0/161 [00:14<?, ?it/s, loss=0.701]  \n"
     ]
    },
    {
     "name": "stdout",
     "output_type": "stream",
     "text": [
      "Average Loss:  3.261726882759831   Accuracy:  631  /  642    98 %\n"
     ]
    },
    {
     "name": "stderr",
     "output_type": "stream",
     "text": [
      "Epoch 39/200 process: 99:   0%|          | 0/161 [00:14<?, ?it/s, loss=0.348]  \n"
     ]
    },
    {
     "name": "stdout",
     "output_type": "stream",
     "text": [
      "Average Loss:  14.93848945026184   Accuracy:  598  /  642    93 %\n"
     ]
    },
    {
     "name": "stderr",
     "output_type": "stream",
     "text": [
      "Epoch 40/200 process: 99:   0%|          | 0/161 [00:14<?, ?it/s, loss=0.805]  \n"
     ]
    },
    {
     "name": "stdout",
     "output_type": "stream",
     "text": [
      "Average Loss:  5.902409602807893   Accuracy:  625  /  642    97 %\n"
     ]
    },
    {
     "name": "stderr",
     "output_type": "stream",
     "text": [
      "Epoch 41/200 process: 99:   0%|          | 0/161 [00:14<?, ?it/s, loss=0.00208]\n"
     ]
    },
    {
     "name": "stdout",
     "output_type": "stream",
     "text": [
      "Average Loss:  3.2099743906292133   Accuracy:  632  /  642    98 %\n"
     ]
    },
    {
     "name": "stderr",
     "output_type": "stream",
     "text": [
      "Epoch 42/200 process: 99:   0%|          | 0/161 [00:14<?, ?it/s, loss=0.132]  \n"
     ]
    },
    {
     "name": "stdout",
     "output_type": "stream",
     "text": [
      "Average Loss:  6.259777083789231   Accuracy:  623  /  642    97 %\n"
     ]
    },
    {
     "name": "stderr",
     "output_type": "stream",
     "text": [
      "Epoch 43/200 process: 99:   0%|          | 0/161 [00:14<?, ?it/s, loss=0.135]  \n"
     ]
    },
    {
     "name": "stdout",
     "output_type": "stream",
     "text": [
      "Average Loss:  4.676968931540614   Accuracy:  629  /  642    97 %\n"
     ]
    },
    {
     "name": "stderr",
     "output_type": "stream",
     "text": [
      "Epoch 44/200 process: 99:   0%|          | 0/161 [00:14<?, ?it/s, loss=0.015]  \n"
     ]
    },
    {
     "name": "stdout",
     "output_type": "stream",
     "text": [
      "Average Loss:  3.0402309956843965   Accuracy:  633  /  642    98 %\n"
     ]
    },
    {
     "name": "stderr",
     "output_type": "stream",
     "text": [
      "Epoch 45/200 process: 99:   0%|          | 0/161 [00:14<?, ?it/s, loss=0.0312]  \n"
     ]
    },
    {
     "name": "stdout",
     "output_type": "stream",
     "text": [
      "Average Loss:  3.1841908036585664   Accuracy:  633  /  642    98 %\n"
     ]
    },
    {
     "name": "stderr",
     "output_type": "stream",
     "text": [
      "Epoch 46/200 process: 99:   0%|          | 0/161 [00:14<?, ?it/s, loss=0.0191] \n"
     ]
    },
    {
     "name": "stdout",
     "output_type": "stream",
     "text": [
      "Average Loss:  2.9436468305648305   Accuracy:  635  /  642    98 %\n"
     ]
    },
    {
     "name": "stderr",
     "output_type": "stream",
     "text": [
      "Epoch 47/200 process: 99:   0%|          | 0/161 [00:14<?, ?it/s, loss=0.00339]\n"
     ]
    },
    {
     "name": "stdout",
     "output_type": "stream",
     "text": [
      "Average Loss:  3.1361942170988186   Accuracy:  635  /  642    98 %\n"
     ]
    },
    {
     "name": "stderr",
     "output_type": "stream",
     "text": [
      "Epoch 48/200 process: 99:   0%|          | 0/161 [00:14<?, ?it/s, loss=0.202]  \n"
     ]
    },
    {
     "name": "stdout",
     "output_type": "stream",
     "text": [
      "Average Loss:  2.937279304358526   Accuracy:  634  /  642    98 %\n"
     ]
    },
    {
     "name": "stderr",
     "output_type": "stream",
     "text": [
      "Epoch 49/200 process: 99:   0%|          | 0/161 [00:14<?, ?it/s, loss=0.202]  \n"
     ]
    },
    {
     "name": "stdout",
     "output_type": "stream",
     "text": [
      "Average Loss:  3.9665841522938763   Accuracy:  633  /  642    98 %\n"
     ]
    },
    {
     "name": "stderr",
     "output_type": "stream",
     "text": [
      "Epoch 50/200 process: 99:   0%|          | 0/161 [00:14<?, ?it/s, loss=0.224]   \n"
     ]
    },
    {
     "name": "stdout",
     "output_type": "stream",
     "text": [
      "Average Loss:  3.9178811829769984   Accuracy:  631  /  642    98 %\n"
     ]
    },
    {
     "name": "stderr",
     "output_type": "stream",
     "text": [
      "Epoch 51/200 process: 99:   0%|          | 0/161 [00:14<?, ?it/s, loss=0.262]  \n"
     ]
    },
    {
     "name": "stdout",
     "output_type": "stream",
     "text": [
      "Average Loss:  3.7436312964127865   Accuracy:  632  /  642    98 %\n"
     ]
    },
    {
     "name": "stderr",
     "output_type": "stream",
     "text": [
      "Epoch 52/200 process: 99:   0%|          | 0/161 [00:14<?, ?it/s, loss=0.0233] \n"
     ]
    },
    {
     "name": "stdout",
     "output_type": "stream",
     "text": [
      "Average Loss:  2.391219555884163   Accuracy:  636  /  642    99 %\n",
      "Saving..\n"
     ]
    },
    {
     "name": "stderr",
     "output_type": "stream",
     "text": [
      "Epoch 53/200 process: 99:   0%|          | 0/161 [00:14<?, ?it/s, loss=0.174]  \n"
     ]
    },
    {
     "name": "stdout",
     "output_type": "stream",
     "text": [
      "Average Loss:  4.2499684369249735   Accuracy:  630  /  642    98 %\n"
     ]
    },
    {
     "name": "stderr",
     "output_type": "stream",
     "text": [
      "Epoch 54/200 process: 99:   0%|          | 0/161 [00:14<?, ?it/s, loss=0.0936] \n"
     ]
    },
    {
     "name": "stdout",
     "output_type": "stream",
     "text": [
      "Average Loss:  3.7816816800041124   Accuracy:  635  /  642    98 %\n"
     ]
    },
    {
     "name": "stderr",
     "output_type": "stream",
     "text": [
      "Epoch 55/200 process: 99:   0%|          | 0/161 [00:14<?, ?it/s, loss=0.155]  \n"
     ]
    },
    {
     "name": "stdout",
     "output_type": "stream",
     "text": [
      "Average Loss:  2.5038994302012725   Accuracy:  634  /  642    98 %\n"
     ]
    },
    {
     "name": "stderr",
     "output_type": "stream",
     "text": [
      "Epoch 56/200 process: 99:   0%|          | 0/161 [00:14<?, ?it/s, loss=0.311]  \n"
     ]
    },
    {
     "name": "stdout",
     "output_type": "stream",
     "text": [
      "Average Loss:  6.644224802032113   Accuracy:  622  /  642    96 %\n"
     ]
    },
    {
     "name": "stderr",
     "output_type": "stream",
     "text": [
      "Epoch 57/200 process: 99:   0%|          | 0/161 [00:14<?, ?it/s, loss=0.659]   \n"
     ]
    },
    {
     "name": "stdout",
     "output_type": "stream",
     "text": [
      "Average Loss:  3.32566499710083   Accuracy:  634  /  642    98 %\n"
     ]
    },
    {
     "name": "stderr",
     "output_type": "stream",
     "text": [
      "Epoch 58/200 process: 99:   0%|          | 0/161 [00:14<?, ?it/s, loss=0.153]  \n"
     ]
    },
    {
     "name": "stdout",
     "output_type": "stream",
     "text": [
      "Average Loss:  2.519091382448096   Accuracy:  635  /  642    98 %\n"
     ]
    },
    {
     "name": "stderr",
     "output_type": "stream",
     "text": [
      "Epoch 59/200 process: 99:   0%|          | 0/161 [00:14<?, ?it/s, loss=0.0997] \n"
     ]
    },
    {
     "name": "stdout",
     "output_type": "stream",
     "text": [
      "Average Loss:  4.146276662359014   Accuracy:  632  /  642    98 %\n"
     ]
    },
    {
     "name": "stderr",
     "output_type": "stream",
     "text": [
      "Epoch 60/200 process: 99:   0%|          | 0/161 [00:14<?, ?it/s, loss=0.0288] \n"
     ]
    },
    {
     "name": "stdout",
     "output_type": "stream",
     "text": [
      "Average Loss:  2.4538070352282375   Accuracy:  635  /  642    98 %\n"
     ]
    },
    {
     "name": "stderr",
     "output_type": "stream",
     "text": [
      "Epoch 61/200 process: 99:   0%|          | 0/161 [00:14<?, ?it/s, loss=0.00767] \n"
     ]
    },
    {
     "name": "stdout",
     "output_type": "stream",
     "text": [
      "Average Loss:  2.2904713941206865   Accuracy:  636  /  642    99 %\n"
     ]
    },
    {
     "name": "stderr",
     "output_type": "stream",
     "text": [
      "Epoch 62/200 process: 99:   0%|          | 0/161 [00:14<?, ?it/s, loss=0.0218] \n"
     ]
    },
    {
     "name": "stdout",
     "output_type": "stream",
     "text": [
      "Average Loss:  4.780449440801931   Accuracy:  627  /  642    97 %\n"
     ]
    },
    {
     "name": "stderr",
     "output_type": "stream",
     "text": [
      "Epoch 63/200 process: 99:   0%|          | 0/161 [00:14<?, ?it/s, loss=0.00499]\n"
     ]
    },
    {
     "name": "stdout",
     "output_type": "stream",
     "text": [
      "Average Loss:  4.481732961256057   Accuracy:  633  /  642    98 %\n"
     ]
    },
    {
     "name": "stderr",
     "output_type": "stream",
     "text": [
      "Epoch 64/200 process: 99:   0%|          | 0/161 [00:14<?, ?it/s, loss=0.00508]\n"
     ]
    },
    {
     "name": "stdout",
     "output_type": "stream",
     "text": [
      "Average Loss:  2.503018836272531   Accuracy:  636  /  642    99 %\n"
     ]
    },
    {
     "name": "stderr",
     "output_type": "stream",
     "text": [
      "Epoch 65/200 process: 99:   0%|          | 0/161 [00:14<?, ?it/s, loss=0.018]  \n"
     ]
    },
    {
     "name": "stdout",
     "output_type": "stream",
     "text": [
      "Average Loss:  3.991612567566335   Accuracy:  630  /  642    98 %\n"
     ]
    },
    {
     "name": "stderr",
     "output_type": "stream",
     "text": [
      "Epoch 66/200 process: 99:   0%|          | 0/161 [00:14<?, ?it/s, loss=0.00584]\n"
     ]
    },
    {
     "name": "stdout",
     "output_type": "stream",
     "text": [
      "Average Loss:  2.7562055477465037   Accuracy:  634  /  642    98 %\n"
     ]
    },
    {
     "name": "stderr",
     "output_type": "stream",
     "text": [
      "Epoch 67/200 process: 99:   0%|          | 0/161 [00:14<?, ?it/s, loss=0.087]   \n"
     ]
    },
    {
     "name": "stdout",
     "output_type": "stream",
     "text": [
      "Average Loss:  2.4378443078785494   Accuracy:  636  /  642    99 %\n"
     ]
    },
    {
     "name": "stderr",
     "output_type": "stream",
     "text": [
      "Epoch 68/200 process: 99:   0%|          | 0/161 [00:14<?, ?it/s, loss=0.237]   \n"
     ]
    },
    {
     "name": "stdout",
     "output_type": "stream",
     "text": [
      "Average Loss:  6.360141332726926   Accuracy:  623  /  642    97 %\n"
     ]
    },
    {
     "name": "stderr",
     "output_type": "stream",
     "text": [
      "Epoch 69/200 process: 99:   0%|          | 0/161 [00:14<?, ?it/s, loss=0.0174] \n"
     ]
    },
    {
     "name": "stdout",
     "output_type": "stream",
     "text": [
      "Average Loss:  2.4326438779680757   Accuracy:  634  /  642    98 %\n"
     ]
    },
    {
     "name": "stderr",
     "output_type": "stream",
     "text": [
      "Epoch 70/200 process: 99:   0%|          | 0/161 [00:14<?, ?it/s, loss=0.68]    \n"
     ]
    },
    {
     "name": "stdout",
     "output_type": "stream",
     "text": [
      "Average Loss:  2.7990705072486435   Accuracy:  635  /  642    98 %\n"
     ]
    },
    {
     "name": "stderr",
     "output_type": "stream",
     "text": [
      "Epoch 71/200 process: 99:   0%|          | 0/161 [00:14<?, ?it/s, loss=0.128]   \n"
     ]
    },
    {
     "name": "stdout",
     "output_type": "stream",
     "text": [
      "Average Loss:  5.109139130479889   Accuracy:  626  /  642    97 %\n"
     ]
    },
    {
     "name": "stderr",
     "output_type": "stream",
     "text": [
      "Epoch 72/200 process: 99:   0%|          | 0/161 [00:14<?, ?it/s, loss=0.0596]  \n"
     ]
    },
    {
     "name": "stdout",
     "output_type": "stream",
     "text": [
      "Average Loss:  2.4445218814562395   Accuracy:  632  /  642    98 %\n"
     ]
    },
    {
     "name": "stderr",
     "output_type": "stream",
     "text": [
      "Epoch 73/200 process: 99:   0%|          | 0/161 [00:14<?, ?it/s, loss=0.501]   \n"
     ]
    },
    {
     "name": "stdout",
     "output_type": "stream",
     "text": [
      "Average Loss:  3.859087562697823   Accuracy:  631  /  642    98 %\n"
     ]
    },
    {
     "name": "stderr",
     "output_type": "stream",
     "text": [
      "Epoch 74/200 process: 99:   0%|          | 0/161 [00:14<?, ?it/s, loss=0.065]   \n"
     ]
    },
    {
     "name": "stdout",
     "output_type": "stream",
     "text": [
      "Average Loss:  2.451320368796587   Accuracy:  636  /  642    99 %\n"
     ]
    },
    {
     "name": "stderr",
     "output_type": "stream",
     "text": [
      "Epoch 75/200 process: 99:   0%|          | 0/161 [00:14<?, ?it/s, loss=0.189]  \n"
     ]
    },
    {
     "name": "stdout",
     "output_type": "stream",
     "text": [
      "Average Loss:  2.4422981693642214   Accuracy:  634  /  642    98 %\n"
     ]
    },
    {
     "name": "stderr",
     "output_type": "stream",
     "text": [
      "Epoch 76/200 process: 99:   0%|          | 0/161 [00:14<?, ?it/s, loss=0.202]   \n"
     ]
    },
    {
     "name": "stdout",
     "output_type": "stream",
     "text": [
      "Average Loss:  2.0493116158395424   Accuracy:  635  /  642    98 %\n"
     ]
    },
    {
     "name": "stderr",
     "output_type": "stream",
     "text": [
      "Epoch 77/200 process: 99:   0%|          | 0/161 [00:14<?, ?it/s, loss=0.283]  \n"
     ]
    },
    {
     "name": "stdout",
     "output_type": "stream",
     "text": [
      "Average Loss:  12.203204013290815   Accuracy:  603  /  642    93 %\n"
     ]
    },
    {
     "name": "stderr",
     "output_type": "stream",
     "text": [
      "Epoch 78/200 process: 99:   0%|          | 0/161 [00:14<?, ?it/s, loss=0.505]  \n"
     ]
    },
    {
     "name": "stdout",
     "output_type": "stream",
     "text": [
      "Average Loss:  2.803966345757999   Accuracy:  631  /  642    98 %\n"
     ]
    },
    {
     "name": "stderr",
     "output_type": "stream",
     "text": [
      "Epoch 79/200 process: 99:   0%|          | 0/161 [00:14<?, ?it/s, loss=0.0263] \n"
     ]
    },
    {
     "name": "stdout",
     "output_type": "stream",
     "text": [
      "Average Loss:  2.5207147050023195   Accuracy:  636  /  642    99 %\n"
     ]
    },
    {
     "name": "stderr",
     "output_type": "stream",
     "text": [
      "Epoch 80/200 process: 99:   0%|          | 0/161 [00:14<?, ?it/s, loss=0.13]   \n"
     ]
    },
    {
     "name": "stdout",
     "output_type": "stream",
     "text": [
      "Average Loss:  3.687621271921671   Accuracy:  630  /  642    98 %\n"
     ]
    },
    {
     "name": "stderr",
     "output_type": "stream",
     "text": [
      "Epoch 81/200 process: 99:   0%|          | 0/161 [00:14<?, ?it/s, loss=0.893]  \n"
     ]
    },
    {
     "name": "stdout",
     "output_type": "stream",
     "text": [
      "Average Loss:  5.736425588198472   Accuracy:  626  /  642    97 %\n"
     ]
    },
    {
     "name": "stderr",
     "output_type": "stream",
     "text": [
      "Epoch 82/200 process: 99:   0%|          | 0/161 [00:14<?, ?it/s, loss=0.024]   \n"
     ]
    },
    {
     "name": "stdout",
     "output_type": "stream",
     "text": [
      "Average Loss:  4.888461137168633   Accuracy:  624  /  642    97 %\n"
     ]
    },
    {
     "name": "stderr",
     "output_type": "stream",
     "text": [
      "Epoch 83/200 process: 99:   0%|          | 0/161 [00:14<?, ?it/s, loss=0.000995]\n"
     ]
    },
    {
     "name": "stdout",
     "output_type": "stream",
     "text": [
      "Average Loss:  3.123454172458878   Accuracy:  631  /  642    98 %\n"
     ]
    },
    {
     "name": "stderr",
     "output_type": "stream",
     "text": [
      "Epoch 84/200 process: 99:   0%|          | 0/161 [00:14<?, ?it/s, loss=0.0181] \n"
     ]
    },
    {
     "name": "stdout",
     "output_type": "stream",
     "text": [
      "Average Loss:  3.3020298628907767   Accuracy:  634  /  642    98 %\n"
     ]
    },
    {
     "name": "stderr",
     "output_type": "stream",
     "text": [
      "Epoch 85/200 process: 99:   0%|          | 0/161 [00:14<?, ?it/s, loss=0.217]   \n"
     ]
    },
    {
     "name": "stdout",
     "output_type": "stream",
     "text": [
      "Average Loss:  5.719829698727153   Accuracy:  626  /  642    97 %\n"
     ]
    },
    {
     "name": "stderr",
     "output_type": "stream",
     "text": [
      "Epoch 86/200 process: 99:   0%|          | 0/161 [00:14<?, ?it/s, loss=0.00502] \n"
     ]
    },
    {
     "name": "stdout",
     "output_type": "stream",
     "text": [
      "Average Loss:  2.993282153885957   Accuracy:  630  /  642    98 %\n"
     ]
    },
    {
     "name": "stderr",
     "output_type": "stream",
     "text": [
      "Epoch 87/200 process: 99:   0%|          | 0/161 [00:14<?, ?it/s, loss=0.00356]\n"
     ]
    },
    {
     "name": "stdout",
     "output_type": "stream",
     "text": [
      "Average Loss:  7.431535553652793   Accuracy:  620  /  642    96 %\n"
     ]
    },
    {
     "name": "stderr",
     "output_type": "stream",
     "text": [
      "Epoch 88/200 process: 99:   0%|          | 0/161 [00:14<?, ?it/s, loss=0.454]   \n"
     ]
    },
    {
     "name": "stdout",
     "output_type": "stream",
     "text": [
      "Average Loss:  4.7005143461574335   Accuracy:  626  /  642    97 %\n"
     ]
    },
    {
     "name": "stderr",
     "output_type": "stream",
     "text": [
      "Epoch 89/200 process: 99:   0%|          | 0/161 [00:14<?, ?it/s, loss=0.0134]  \n"
     ]
    },
    {
     "name": "stdout",
     "output_type": "stream",
     "text": [
      "Average Loss:  7.368746957974508   Accuracy:  613  /  642    95 %\n"
     ]
    },
    {
     "name": "stderr",
     "output_type": "stream",
     "text": [
      "Epoch 90/200 process: 99:   0%|          | 0/161 [00:14<?, ?it/s, loss=0.0342] \n"
     ]
    },
    {
     "name": "stdout",
     "output_type": "stream",
     "text": [
      "Average Loss:  3.5725848110741936   Accuracy:  633  /  642    98 %\n"
     ]
    },
    {
     "name": "stderr",
     "output_type": "stream",
     "text": [
      "Epoch 91/200 process: 99:   0%|          | 0/161 [00:14<?, ?it/s, loss=0.923]   \n"
     ]
    },
    {
     "name": "stdout",
     "output_type": "stream",
     "text": [
      "Average Loss:  2.516403890636866   Accuracy:  635  /  642    98 %\n"
     ]
    },
    {
     "name": "stderr",
     "output_type": "stream",
     "text": [
      "Epoch 92/200 process: 99:   0%|          | 0/161 [00:14<?, ?it/s, loss=0.205]  \n"
     ]
    },
    {
     "name": "stdout",
     "output_type": "stream",
     "text": [
      "Average Loss:  2.6168817880115967   Accuracy:  631  /  642    98 %\n"
     ]
    },
    {
     "name": "stderr",
     "output_type": "stream",
     "text": [
      "Epoch 93/200 process: 99:   0%|          | 0/161 [00:14<?, ?it/s, loss=0.484]  \n"
     ]
    },
    {
     "name": "stdout",
     "output_type": "stream",
     "text": [
      "Average Loss:  1.9962517374981417   Accuracy:  637  /  642    99 %\n",
      "Saving..\n"
     ]
    },
    {
     "name": "stderr",
     "output_type": "stream",
     "text": [
      "Epoch 94/200 process: 99:   0%|          | 0/161 [00:14<?, ?it/s, loss=0.00709] \n"
     ]
    },
    {
     "name": "stdout",
     "output_type": "stream",
     "text": [
      "Average Loss:  8.51535534998402   Accuracy:  619  /  642    96 %\n"
     ]
    },
    {
     "name": "stderr",
     "output_type": "stream",
     "text": [
      "Epoch 95/200 process: 99:   0%|          | 0/161 [00:14<?, ?it/s, loss=0.0162]  \n"
     ]
    },
    {
     "name": "stdout",
     "output_type": "stream",
     "text": [
      "Average Loss:  2.6571173445126988   Accuracy:  635  /  642    98 %\n"
     ]
    },
    {
     "name": "stderr",
     "output_type": "stream",
     "text": [
      "Epoch 96/200 process: 99:   0%|          | 0/161 [00:14<?, ?it/s, loss=0.119]   \n"
     ]
    },
    {
     "name": "stdout",
     "output_type": "stream",
     "text": [
      "Average Loss:  2.0125694037706126   Accuracy:  634  /  642    98 %\n"
     ]
    },
    {
     "name": "stderr",
     "output_type": "stream",
     "text": [
      "Epoch 97/200 process: 99:   0%|          | 0/161 [00:14<?, ?it/s, loss=0.0529] \n"
     ]
    },
    {
     "name": "stdout",
     "output_type": "stream",
     "text": [
      "Average Loss:  2.3496737758541713   Accuracy:  636  /  642    99 %\n"
     ]
    },
    {
     "name": "stderr",
     "output_type": "stream",
     "text": [
      "Epoch 98/200 process: 99:   0%|          | 0/161 [00:14<?, ?it/s, loss=0.0182] \n"
     ]
    },
    {
     "name": "stdout",
     "output_type": "stream",
     "text": [
      "Average Loss:  3.0896276489766024   Accuracy:  632  /  642    98 %\n"
     ]
    },
    {
     "name": "stderr",
     "output_type": "stream",
     "text": [
      "Epoch 99/200 process: 99:   0%|          | 0/161 [00:14<?, ?it/s, loss=0.318]  \n"
     ]
    },
    {
     "name": "stdout",
     "output_type": "stream",
     "text": [
      "Average Loss:  2.9748579577735654   Accuracy:  635  /  642    98 %\n"
     ]
    },
    {
     "name": "stderr",
     "output_type": "stream",
     "text": [
      "Epoch 100/200 process: 99:   0%|          | 0/161 [00:14<?, ?it/s, loss=0.0294] \n"
     ]
    },
    {
     "name": "stdout",
     "output_type": "stream",
     "text": [
      "Average Loss:  2.1596237773119356   Accuracy:  636  /  642    99 %\n"
     ]
    },
    {
     "name": "stderr",
     "output_type": "stream",
     "text": [
      "Epoch 101/200 process: 99:   0%|          | 0/161 [00:14<?, ?it/s, loss=0.108]  \n"
     ]
    },
    {
     "name": "stdout",
     "output_type": "stream",
     "text": [
      "Average Loss:  4.222807637532242   Accuracy:  629  /  642    97 %\n"
     ]
    },
    {
     "name": "stderr",
     "output_type": "stream",
     "text": [
      "Epoch 102/200 process: 99:   0%|          | 0/161 [00:14<?, ?it/s, loss=0.0336]  \n"
     ]
    },
    {
     "name": "stdout",
     "output_type": "stream",
     "text": [
      "Average Loss:  6.172647534171119   Accuracy:  621  /  642    96 %\n"
     ]
    },
    {
     "name": "stderr",
     "output_type": "stream",
     "text": [
      "Epoch 103/200 process: 99:   0%|          | 0/161 [00:14<?, ?it/s, loss=0.00606]\n"
     ]
    },
    {
     "name": "stdout",
     "output_type": "stream",
     "text": [
      "Average Loss:  2.3961847341488465   Accuracy:  634  /  642    98 %\n"
     ]
    },
    {
     "name": "stderr",
     "output_type": "stream",
     "text": [
      "Epoch 104/200 process: 99:   0%|          | 0/161 [00:14<?, ?it/s, loss=0.0199]  \n"
     ]
    },
    {
     "name": "stdout",
     "output_type": "stream",
     "text": [
      "Average Loss:  2.775698008317704   Accuracy:  635  /  642    98 %\n"
     ]
    },
    {
     "name": "stderr",
     "output_type": "stream",
     "text": [
      "Epoch 105/200 process: 99:   0%|          | 0/161 [00:14<?, ?it/s, loss=0.349]   \n"
     ]
    },
    {
     "name": "stdout",
     "output_type": "stream",
     "text": [
      "Average Loss:  2.124005837671575   Accuracy:  636  /  642    99 %\n"
     ]
    },
    {
     "name": "stderr",
     "output_type": "stream",
     "text": [
      "Epoch 106/200 process: 99:   0%|          | 0/161 [00:14<?, ?it/s, loss=0.0491] \n"
     ]
    },
    {
     "name": "stdout",
     "output_type": "stream",
     "text": [
      "Average Loss:  3.0685992855287623   Accuracy:  632  /  642    98 %\n"
     ]
    },
    {
     "name": "stderr",
     "output_type": "stream",
     "text": [
      "Epoch 107/200 process: 99:   0%|          | 0/161 [00:14<?, ?it/s, loss=0.00288] \n"
     ]
    },
    {
     "name": "stdout",
     "output_type": "stream",
     "text": [
      "Average Loss:  2.1362254971681978   Accuracy:  635  /  642    98 %\n"
     ]
    },
    {
     "name": "stderr",
     "output_type": "stream",
     "text": [
      "Epoch 108/200 process: 99:   0%|          | 0/161 [00:14<?, ?it/s, loss=0.39]    \n"
     ]
    },
    {
     "name": "stdout",
     "output_type": "stream",
     "text": [
      "Average Loss:  3.5592452848359244   Accuracy:  633  /  642    98 %\n"
     ]
    },
    {
     "name": "stderr",
     "output_type": "stream",
     "text": [
      "Epoch 109/200 process: 99:   0%|          | 0/161 [00:14<?, ?it/s, loss=0.000926]\n"
     ]
    },
    {
     "name": "stdout",
     "output_type": "stream",
     "text": [
      "Average Loss:  1.8799309900314256   Accuracy:  638  /  642    99 %\n",
      "Saving..\n"
     ]
    },
    {
     "name": "stderr",
     "output_type": "stream",
     "text": [
      "Epoch 110/200 process: 99:   0%|          | 0/161 [00:14<?, ?it/s, loss=0.114]  \n"
     ]
    },
    {
     "name": "stdout",
     "output_type": "stream",
     "text": [
      "Average Loss:  2.8080554714106256   Accuracy:  633  /  642    98 %\n"
     ]
    },
    {
     "name": "stderr",
     "output_type": "stream",
     "text": [
      "Epoch 111/200 process: 99:   0%|          | 0/161 [00:14<?, ?it/s, loss=0.00448] \n"
     ]
    },
    {
     "name": "stdout",
     "output_type": "stream",
     "text": [
      "Average Loss:  4.61022852028691   Accuracy:  628  /  642    97 %\n"
     ]
    },
    {
     "name": "stderr",
     "output_type": "stream",
     "text": [
      "Epoch 112/200 process: 99:   0%|          | 0/161 [00:14<?, ?it/s, loss=0.0211] \n"
     ]
    },
    {
     "name": "stdout",
     "output_type": "stream",
     "text": [
      "Average Loss:  2.6084830531549414   Accuracy:  636  /  642    99 %\n"
     ]
    },
    {
     "name": "stderr",
     "output_type": "stream",
     "text": [
      "Epoch 113/200 process: 99:   0%|          | 0/161 [00:14<?, ?it/s, loss=0.436]   \n"
     ]
    },
    {
     "name": "stdout",
     "output_type": "stream",
     "text": [
      "Average Loss:  2.6628633313957835   Accuracy:  634  /  642    98 %\n"
     ]
    },
    {
     "name": "stderr",
     "output_type": "stream",
     "text": [
      "Epoch 114/200 process: 99:   0%|          | 0/161 [00:14<?, ?it/s, loss=0.0319] \n"
     ]
    },
    {
     "name": "stdout",
     "output_type": "stream",
     "text": [
      "Average Loss:  2.189816992628039   Accuracy:  636  /  642    99 %\n"
     ]
    },
    {
     "name": "stderr",
     "output_type": "stream",
     "text": [
      "Epoch 115/200 process: 99:   0%|          | 0/161 [00:14<?, ?it/s, loss=0.0102] \n"
     ]
    },
    {
     "name": "stdout",
     "output_type": "stream",
     "text": [
      "Average Loss:  3.692971123960888   Accuracy:  631  /  642    98 %\n"
     ]
    },
    {
     "name": "stderr",
     "output_type": "stream",
     "text": [
      "Epoch 116/200 process: 99:   0%|          | 0/161 [00:14<?, ?it/s, loss=0.0741]  \n"
     ]
    },
    {
     "name": "stdout",
     "output_type": "stream",
     "text": [
      "Average Loss:  2.0287290765845682   Accuracy:  638  /  642    99 %\n"
     ]
    },
    {
     "name": "stderr",
     "output_type": "stream",
     "text": [
      "Epoch 117/200 process: 99:   0%|          | 0/161 [00:14<?, ?it/s, loss=0.392]   \n"
     ]
    },
    {
     "name": "stdout",
     "output_type": "stream",
     "text": [
      "Average Loss:  4.472683190535463   Accuracy:  630  /  642    98 %\n"
     ]
    },
    {
     "name": "stderr",
     "output_type": "stream",
     "text": [
      "Epoch 118/200 process: 99:   0%|          | 0/161 [00:14<?, ?it/s, loss=0.0143] \n"
     ]
    },
    {
     "name": "stdout",
     "output_type": "stream",
     "text": [
      "Average Loss:  1.7727397797862068   Accuracy:  637  /  642    99 %\n"
     ]
    },
    {
     "name": "stderr",
     "output_type": "stream",
     "text": [
      "Epoch 119/200 process: 99:   0%|          | 0/161 [00:14<?, ?it/s, loss=0.00929]\n"
     ]
    },
    {
     "name": "stdout",
     "output_type": "stream",
     "text": [
      "Average Loss:  4.515401853622507   Accuracy:  629  /  642    97 %\n"
     ]
    },
    {
     "name": "stderr",
     "output_type": "stream",
     "text": [
      "Epoch 120/200 process: 99:   0%|          | 0/161 [00:14<?, ?it/s, loss=0.101]   \n"
     ]
    },
    {
     "name": "stdout",
     "output_type": "stream",
     "text": [
      "Average Loss:  7.150894611389958   Accuracy:  619  /  642    96 %\n"
     ]
    },
    {
     "name": "stderr",
     "output_type": "stream",
     "text": [
      "Epoch 121/200 process: 99:   0%|          | 0/161 [00:14<?, ?it/s, loss=0.0114] \n"
     ]
    },
    {
     "name": "stdout",
     "output_type": "stream",
     "text": [
      "Average Loss:  2.9745724043114024   Accuracy:  632  /  642    98 %\n"
     ]
    },
    {
     "name": "stderr",
     "output_type": "stream",
     "text": [
      "Epoch 122/200 process: 99:   0%|          | 0/161 [00:14<?, ?it/s, loss=0.02]    \n"
     ]
    },
    {
     "name": "stdout",
     "output_type": "stream",
     "text": [
      "Average Loss:  2.3707628259217017   Accuracy:  635  /  642    98 %\n"
     ]
    },
    {
     "name": "stderr",
     "output_type": "stream",
     "text": [
      "Epoch 123/200 process: 99:   0%|          | 0/161 [00:14<?, ?it/s, loss=0.00114] \n"
     ]
    },
    {
     "name": "stdout",
     "output_type": "stream",
     "text": [
      "Average Loss:  2.68372747504327   Accuracy:  635  /  642    98 %\n"
     ]
    },
    {
     "name": "stderr",
     "output_type": "stream",
     "text": [
      "Epoch 124/200 process: 99:   0%|          | 0/161 [00:14<?, ?it/s, loss=0.0309] \n"
     ]
    },
    {
     "name": "stdout",
     "output_type": "stream",
     "text": [
      "Average Loss:  2.3512737350138195   Accuracy:  636  /  642    99 %\n"
     ]
    },
    {
     "name": "stderr",
     "output_type": "stream",
     "text": [
      "Epoch 125/200 process: 99:   0%|          | 0/161 [00:14<?, ?it/s, loss=0.0211] \n"
     ]
    },
    {
     "name": "stdout",
     "output_type": "stream",
     "text": [
      "Average Loss:  2.067820250249497   Accuracy:  636  /  642    99 %\n"
     ]
    },
    {
     "name": "stderr",
     "output_type": "stream",
     "text": [
      "Epoch 126/200 process: 99:   0%|          | 0/161 [00:14<?, ?it/s, loss=0.0216]  \n"
     ]
    },
    {
     "name": "stdout",
     "output_type": "stream",
     "text": [
      "Average Loss:  3.986928734739138   Accuracy:  631  /  642    98 %\n"
     ]
    },
    {
     "name": "stderr",
     "output_type": "stream",
     "text": [
      "Epoch 127/200 process: 99:   0%|          | 0/161 [00:14<?, ?it/s, loss=0.285]   \n"
     ]
    },
    {
     "name": "stdout",
     "output_type": "stream",
     "text": [
      "Average Loss:  4.5155897448621545   Accuracy:  630  /  642    98 %\n"
     ]
    },
    {
     "name": "stderr",
     "output_type": "stream",
     "text": [
      "Epoch 128/200 process: 99:   0%|          | 0/161 [00:14<?, ?it/s, loss=0.00915] \n"
     ]
    },
    {
     "name": "stdout",
     "output_type": "stream",
     "text": [
      "Average Loss:  2.0617368931161764   Accuracy:  637  /  642    99 %\n"
     ]
    },
    {
     "name": "stderr",
     "output_type": "stream",
     "text": [
      "Epoch 129/200 process: 99:   0%|          | 0/161 [00:14<?, ?it/s, loss=0.0781]  \n"
     ]
    },
    {
     "name": "stdout",
     "output_type": "stream",
     "text": [
      "Average Loss:  2.595943298380007   Accuracy:  634  /  642    98 %\n"
     ]
    },
    {
     "name": "stderr",
     "output_type": "stream",
     "text": [
      "Epoch 130/200 process: 99:   0%|          | 0/161 [00:14<?, ?it/s, loss=0.00712] \n"
     ]
    },
    {
     "name": "stdout",
     "output_type": "stream",
     "text": [
      "Average Loss:  2.950547358355834   Accuracy:  636  /  642    99 %\n"
     ]
    },
    {
     "name": "stderr",
     "output_type": "stream",
     "text": [
      "Epoch 131/200 process: 99:   0%|          | 0/161 [00:14<?, ?it/s, loss=0.579]   \n"
     ]
    },
    {
     "name": "stdout",
     "output_type": "stream",
     "text": [
      "Average Loss:  2.401971484789101   Accuracy:  635  /  642    98 %\n"
     ]
    },
    {
     "name": "stderr",
     "output_type": "stream",
     "text": [
      "Epoch 132/200 process: 99:   0%|          | 0/161 [00:14<?, ?it/s, loss=0.0243]  \n"
     ]
    },
    {
     "name": "stdout",
     "output_type": "stream",
     "text": [
      "Average Loss:  5.483928155192189   Accuracy:  626  /  642    97 %\n"
     ]
    },
    {
     "name": "stderr",
     "output_type": "stream",
     "text": [
      "Epoch 133/200 process: 99:   0%|          | 0/161 [00:14<?, ?it/s, loss=0.00021] \n"
     ]
    },
    {
     "name": "stdout",
     "output_type": "stream",
     "text": [
      "Average Loss:  2.0392490196827566   Accuracy:  635  /  642    98 %\n"
     ]
    },
    {
     "name": "stderr",
     "output_type": "stream",
     "text": [
      "Epoch 134/200 process: 99:   0%|          | 0/161 [00:14<?, ?it/s, loss=0.0239] \n"
     ]
    },
    {
     "name": "stdout",
     "output_type": "stream",
     "text": [
      "Average Loss:  2.2612210072438756   Accuracy:  636  /  642    99 %\n"
     ]
    },
    {
     "name": "stderr",
     "output_type": "stream",
     "text": [
      "Epoch 135/200 process: 99:   0%|          | 0/161 [00:14<?, ?it/s, loss=1.04]   \n"
     ]
    },
    {
     "name": "stdout",
     "output_type": "stream",
     "text": [
      "Average Loss:  2.1890950780070852   Accuracy:  637  /  642    99 %\n"
     ]
    },
    {
     "name": "stderr",
     "output_type": "stream",
     "text": [
      "Epoch 136/200 process: 99:   0%|          | 0/161 [00:14<?, ?it/s, loss=0.0301]  \n"
     ]
    },
    {
     "name": "stdout",
     "output_type": "stream",
     "text": [
      "Average Loss:  4.088359825237603   Accuracy:  631  /  642    98 %\n"
     ]
    },
    {
     "name": "stderr",
     "output_type": "stream",
     "text": [
      "Epoch 137/200 process: 99:   0%|          | 0/161 [00:14<?, ?it/s, loss=0.00324]\n"
     ]
    },
    {
     "name": "stdout",
     "output_type": "stream",
     "text": [
      "Average Loss:  2.9961603096580802   Accuracy:  634  /  642    98 %\n"
     ]
    },
    {
     "name": "stderr",
     "output_type": "stream",
     "text": [
      "Epoch 138/200 process: 99:   0%|          | 0/161 [00:14<?, ?it/s, loss=0.027]  \n"
     ]
    },
    {
     "name": "stdout",
     "output_type": "stream",
     "text": [
      "Average Loss:  2.5692606725278893   Accuracy:  635  /  642    98 %\n"
     ]
    },
    {
     "name": "stderr",
     "output_type": "stream",
     "text": [
      "Epoch 139/200 process: 99:   0%|          | 0/161 [00:14<?, ?it/s, loss=0.00427] \n"
     ]
    },
    {
     "name": "stdout",
     "output_type": "stream",
     "text": [
      "Average Loss:  2.401579559151287   Accuracy:  634  /  642    98 %\n"
     ]
    },
    {
     "name": "stderr",
     "output_type": "stream",
     "text": [
      "Epoch 140/200 process: 99:   0%|          | 0/161 [00:14<?, ?it/s, loss=0.0139] \n"
     ]
    },
    {
     "name": "stdout",
     "output_type": "stream",
     "text": [
      "Average Loss:  2.268120654000086   Accuracy:  634  /  642    98 %\n"
     ]
    },
    {
     "name": "stderr",
     "output_type": "stream",
     "text": [
      "Epoch 141/200 process: 99:   0%|          | 0/161 [00:14<?, ?it/s, loss=0.00052] \n"
     ]
    },
    {
     "name": "stdout",
     "output_type": "stream",
     "text": [
      "Average Loss:  2.4281327570338362   Accuracy:  636  /  642    99 %\n"
     ]
    },
    {
     "name": "stderr",
     "output_type": "stream",
     "text": [
      "Epoch 142/200 process: 99:   0%|          | 0/161 [00:14<?, ?it/s, loss=0.0154]  \n"
     ]
    },
    {
     "name": "stdout",
     "output_type": "stream",
     "text": [
      "Average Loss:  2.2513656845558216   Accuracy:  637  /  642    99 %\n"
     ]
    },
    {
     "name": "stderr",
     "output_type": "stream",
     "text": [
      "Epoch 143/200 process: 99:   0%|          | 0/161 [00:14<?, ?it/s, loss=0.0131]  \n"
     ]
    },
    {
     "name": "stdout",
     "output_type": "stream",
     "text": [
      "Average Loss:  2.0571101704881585   Accuracy:  636  /  642    99 %\n"
     ]
    },
    {
     "name": "stderr",
     "output_type": "stream",
     "text": [
      "Epoch 144/200 process: 99:   0%|          | 0/161 [00:14<?, ?it/s, loss=0.00046] \n"
     ]
    },
    {
     "name": "stdout",
     "output_type": "stream",
     "text": [
      "Average Loss:  5.416034224182113   Accuracy:  629  /  642    97 %\n"
     ]
    },
    {
     "name": "stderr",
     "output_type": "stream",
     "text": [
      "Epoch 145/200 process: 99:   0%|          | 0/161 [00:14<?, ?it/s, loss=0.0048] \n"
     ]
    },
    {
     "name": "stdout",
     "output_type": "stream",
     "text": [
      "Average Loss:  2.1896694131755794   Accuracy:  637  /  642    99 %\n"
     ]
    },
    {
     "name": "stderr",
     "output_type": "stream",
     "text": [
      "Epoch 146/200 process: 99:   0%|          | 0/161 [00:14<?, ?it/s, loss=0.113]   \n"
     ]
    },
    {
     "name": "stdout",
     "output_type": "stream",
     "text": [
      "Average Loss:  2.85463364028692   Accuracy:  634  /  642    98 %\n"
     ]
    },
    {
     "name": "stderr",
     "output_type": "stream",
     "text": [
      "Epoch 147/200 process: 99:   0%|          | 0/161 [00:14<?, ?it/s, loss=0.00547]\n"
     ]
    },
    {
     "name": "stdout",
     "output_type": "stream",
     "text": [
      "Average Loss:  4.183452399960515   Accuracy:  629  /  642    97 %\n"
     ]
    },
    {
     "name": "stderr",
     "output_type": "stream",
     "text": [
      "Epoch 148/200 process: 99:   0%|          | 0/161 [00:14<?, ?it/s, loss=0.123]  \n"
     ]
    },
    {
     "name": "stdout",
     "output_type": "stream",
     "text": [
      "Average Loss:  2.6953035351616563   Accuracy:  635  /  642    98 %\n"
     ]
    },
    {
     "name": "stderr",
     "output_type": "stream",
     "text": [
      "Epoch 149/200 process: 99:   0%|          | 0/161 [00:14<?, ?it/s, loss=0.00213] \n"
     ]
    },
    {
     "name": "stdout",
     "output_type": "stream",
     "text": [
      "Average Loss:  2.926496300224244   Accuracy:  634  /  642    98 %\n"
     ]
    },
    {
     "name": "stderr",
     "output_type": "stream",
     "text": [
      "Epoch 150/200 process: 99:   0%|          | 0/161 [00:14<?, ?it/s, loss=0.0846]  \n"
     ]
    },
    {
     "name": "stdout",
     "output_type": "stream",
     "text": [
      "Average Loss:  4.341457557842659   Accuracy:  629  /  642    97 %\n"
     ]
    },
    {
     "name": "stderr",
     "output_type": "stream",
     "text": [
      "Epoch 151/200 process: 99:   0%|          | 0/161 [00:14<?, ?it/s, loss=0.000318]\n"
     ]
    },
    {
     "name": "stdout",
     "output_type": "stream",
     "text": [
      "Average Loss:  2.9464440603504727   Accuracy:  634  /  642    98 %\n"
     ]
    },
    {
     "name": "stderr",
     "output_type": "stream",
     "text": [
      "Epoch 152/200 process: 99:   0%|          | 0/161 [00:14<?, ?it/s, loss=0.00783] \n"
     ]
    },
    {
     "name": "stdout",
     "output_type": "stream",
     "text": [
      "Average Loss:  2.4511029775621864   Accuracy:  634  /  642    98 %\n"
     ]
    },
    {
     "name": "stderr",
     "output_type": "stream",
     "text": [
      "Epoch 153/200 process: 99:   0%|          | 0/161 [00:14<?, ?it/s, loss=0.0765] \n"
     ]
    },
    {
     "name": "stdout",
     "output_type": "stream",
     "text": [
      "Average Loss:  3.3264718564132636   Accuracy:  634  /  642    98 %\n"
     ]
    },
    {
     "name": "stderr",
     "output_type": "stream",
     "text": [
      "Epoch 154/200 process: 99:   0%|          | 0/161 [00:14<?, ?it/s, loss=0.0293] \n"
     ]
    },
    {
     "name": "stdout",
     "output_type": "stream",
     "text": [
      "Average Loss:  3.6910743548705796   Accuracy:  633  /  642    98 %\n"
     ]
    },
    {
     "name": "stderr",
     "output_type": "stream",
     "text": [
      "Epoch 155/200 process: 99:   0%|          | 0/161 [00:14<?, ?it/s, loss=0.0325]  \n"
     ]
    },
    {
     "name": "stdout",
     "output_type": "stream",
     "text": [
      "Average Loss:  2.1382692019324168   Accuracy:  635  /  642    98 %\n"
     ]
    },
    {
     "name": "stderr",
     "output_type": "stream",
     "text": [
      "Epoch 156/200 process: 99:   0%|          | 0/161 [00:14<?, ?it/s, loss=0.228]   \n"
     ]
    },
    {
     "name": "stdout",
     "output_type": "stream",
     "text": [
      "Average Loss:  2.7122884655254893   Accuracy:  635  /  642    98 %\n"
     ]
    },
    {
     "name": "stderr",
     "output_type": "stream",
     "text": [
      "Epoch 157/200 process: 99:   0%|          | 0/161 [00:14<?, ?it/s, loss=0.00838]\n"
     ]
    },
    {
     "name": "stdout",
     "output_type": "stream",
     "text": [
      "Average Loss:  2.352209811891953   Accuracy:  636  /  642    99 %\n"
     ]
    },
    {
     "name": "stderr",
     "output_type": "stream",
     "text": [
      "Epoch 158/200 process: 99:   0%|          | 0/161 [00:14<?, ?it/s, loss=0.0396] \n"
     ]
    },
    {
     "name": "stdout",
     "output_type": "stream",
     "text": [
      "Average Loss:  4.2245997648137745   Accuracy:  631  /  642    98 %\n"
     ]
    },
    {
     "name": "stderr",
     "output_type": "stream",
     "text": [
      "Epoch 159/200 process: 99:   0%|          | 0/161 [00:14<?, ?it/s, loss=0.315]   \n"
     ]
    },
    {
     "name": "stdout",
     "output_type": "stream",
     "text": [
      "Average Loss:  2.6725569648696705   Accuracy:  634  /  642    98 %\n"
     ]
    },
    {
     "name": "stderr",
     "output_type": "stream",
     "text": [
      "Epoch 160/200 process: 99:   0%|          | 0/161 [00:14<?, ?it/s, loss=0.0402]  \n"
     ]
    },
    {
     "name": "stdout",
     "output_type": "stream",
     "text": [
      "Average Loss:  1.6940648595336825   Accuracy:  636  /  642    99 %\n"
     ]
    },
    {
     "name": "stderr",
     "output_type": "stream",
     "text": [
      "Epoch 161/200 process: 99:   0%|          | 0/161 [00:14<?, ?it/s, loss=0.00335]\n"
     ]
    },
    {
     "name": "stdout",
     "output_type": "stream",
     "text": [
      "Average Loss:  2.0000765054537624   Accuracy:  636  /  642    99 %\n"
     ]
    },
    {
     "name": "stderr",
     "output_type": "stream",
     "text": [
      "Epoch 162/200 process: 99:   0%|          | 0/161 [00:14<?, ?it/s, loss=0.0082]  \n"
     ]
    },
    {
     "name": "stdout",
     "output_type": "stream",
     "text": [
      "Average Loss:  3.1321942151080293   Accuracy:  632  /  642    98 %\n"
     ]
    },
    {
     "name": "stderr",
     "output_type": "stream",
     "text": [
      "Epoch 163/200 process: 99:   0%|          | 0/161 [00:14<?, ?it/s, loss=0.0124]  \n"
     ]
    },
    {
     "name": "stdout",
     "output_type": "stream",
     "text": [
      "Average Loss:  2.374103545802427   Accuracy:  636  /  642    99 %\n"
     ]
    },
    {
     "name": "stderr",
     "output_type": "stream",
     "text": [
      "Epoch 164/200 process: 99:   0%|          | 0/161 [00:14<?, ?it/s, loss=0.00195] \n"
     ]
    },
    {
     "name": "stdout",
     "output_type": "stream",
     "text": [
      "Average Loss:  3.467518982216916   Accuracy:  634  /  642    98 %\n"
     ]
    },
    {
     "name": "stderr",
     "output_type": "stream",
     "text": [
      "Epoch 165/200 process: 99:   0%|          | 0/161 [00:14<?, ?it/s, loss=0.0494]  \n"
     ]
    },
    {
     "name": "stdout",
     "output_type": "stream",
     "text": [
      "Average Loss:  2.3344428903001244   Accuracy:  636  /  642    99 %\n"
     ]
    },
    {
     "name": "stderr",
     "output_type": "stream",
     "text": [
      "Epoch 166/200 process: 99:   0%|          | 0/161 [00:14<?, ?it/s, loss=0.0126] \n"
     ]
    },
    {
     "name": "stdout",
     "output_type": "stream",
     "text": [
      "Average Loss:  1.8143569709936855   Accuracy:  637  /  642    99 %\n"
     ]
    },
    {
     "name": "stderr",
     "output_type": "stream",
     "text": [
      "Epoch 167/200 process: 99:   0%|          | 0/161 [00:14<?, ?it/s, loss=0.0952]  \n"
     ]
    },
    {
     "name": "stdout",
     "output_type": "stream",
     "text": [
      "Average Loss:  1.8476071370969294   Accuracy:  638  /  642    99 %\n"
     ]
    },
    {
     "name": "stderr",
     "output_type": "stream",
     "text": [
      "Epoch 168/200 process: 99:   0%|          | 0/161 [00:14<?, ?it/s, loss=0.0427]  \n"
     ]
    },
    {
     "name": "stdout",
     "output_type": "stream",
     "text": [
      "Average Loss:  2.614638364984785   Accuracy:  633  /  642    98 %\n"
     ]
    },
    {
     "name": "stderr",
     "output_type": "stream",
     "text": [
      "Epoch 169/200 process: 99:   0%|          | 0/161 [00:14<?, ?it/s, loss=0.00522]\n"
     ]
    },
    {
     "name": "stdout",
     "output_type": "stream",
     "text": [
      "Average Loss:  2.505647185116686   Accuracy:  635  /  642    98 %\n"
     ]
    },
    {
     "name": "stderr",
     "output_type": "stream",
     "text": [
      "Epoch 170/200 process: 99:   0%|          | 0/161 [00:14<?, ?it/s, loss=0.0183] \n"
     ]
    },
    {
     "name": "stdout",
     "output_type": "stream",
     "text": [
      "Average Loss:  2.036543735194755   Accuracy:  637  /  642    99 %\n"
     ]
    },
    {
     "name": "stderr",
     "output_type": "stream",
     "text": [
      "Epoch 171/200 process: 99:   0%|          | 0/161 [00:14<?, ?it/s, loss=0.009]   \n"
     ]
    },
    {
     "name": "stdout",
     "output_type": "stream",
     "text": [
      "Average Loss:  2.3077918954077177   Accuracy:  635  /  642    98 %\n"
     ]
    },
    {
     "name": "stderr",
     "output_type": "stream",
     "text": [
      "Epoch 172/200 process: 99:   0%|          | 0/161 [00:14<?, ?it/s, loss=0.138]   \n"
     ]
    },
    {
     "name": "stdout",
     "output_type": "stream",
     "text": [
      "Average Loss:  2.6198430079239188   Accuracy:  633  /  642    98 %\n"
     ]
    },
    {
     "name": "stderr",
     "output_type": "stream",
     "text": [
      "Epoch 173/200 process: 99:   0%|          | 0/161 [00:14<?, ?it/s, loss=0.27]   \n"
     ]
    },
    {
     "name": "stdout",
     "output_type": "stream",
     "text": [
      "Average Loss:  3.87209887844665   Accuracy:  630  /  642    98 %\n"
     ]
    },
    {
     "name": "stderr",
     "output_type": "stream",
     "text": [
      "Epoch 174/200 process: 99:   0%|          | 0/161 [00:14<?, ?it/s, loss=0.00668] \n"
     ]
    },
    {
     "name": "stdout",
     "output_type": "stream",
     "text": [
      "Average Loss:  1.9838159497139713   Accuracy:  637  /  642    99 %\n"
     ]
    },
    {
     "name": "stderr",
     "output_type": "stream",
     "text": [
      "Epoch 175/200 process: 99:   0%|          | 0/161 [00:14<?, ?it/s, loss=0.549]   \n"
     ]
    },
    {
     "name": "stdout",
     "output_type": "stream",
     "text": [
      "Average Loss:  1.8587714238019544   Accuracy:  638  /  642    99 %\n"
     ]
    },
    {
     "name": "stderr",
     "output_type": "stream",
     "text": [
      "Epoch 176/200 process: 99:   0%|          | 0/161 [00:14<?, ?it/s, loss=0.0442] \n"
     ]
    },
    {
     "name": "stdout",
     "output_type": "stream",
     "text": [
      "Average Loss:  2.452621495551284   Accuracy:  635  /  642    98 %\n"
     ]
    },
    {
     "name": "stderr",
     "output_type": "stream",
     "text": [
      "Epoch 177/200 process: 99:   0%|          | 0/161 [00:14<?, ?it/s, loss=0.00576] \n"
     ]
    },
    {
     "name": "stdout",
     "output_type": "stream",
     "text": [
      "Average Loss:  2.63016254271497   Accuracy:  635  /  642    98 %\n"
     ]
    },
    {
     "name": "stderr",
     "output_type": "stream",
     "text": [
      "Epoch 178/200 process: 99:   0%|          | 0/161 [00:14<?, ?it/s, loss=0.00237] \n"
     ]
    },
    {
     "name": "stdout",
     "output_type": "stream",
     "text": [
      "Average Loss:  2.7335281321866205   Accuracy:  634  /  642    98 %\n"
     ]
    },
    {
     "name": "stderr",
     "output_type": "stream",
     "text": [
      "Epoch 179/200 process: 99:   0%|          | 0/161 [00:14<?, ?it/s, loss=0.053]  \n"
     ]
    },
    {
     "name": "stdout",
     "output_type": "stream",
     "text": [
      "Average Loss:  2.926372931779042   Accuracy:  634  /  642    98 %\n"
     ]
    },
    {
     "name": "stderr",
     "output_type": "stream",
     "text": [
      "Epoch 180/200 process: 99:   0%|          | 0/161 [00:14<?, ?it/s, loss=0.00884] \n"
     ]
    },
    {
     "name": "stdout",
     "output_type": "stream",
     "text": [
      "Average Loss:  1.6566686172791378   Accuracy:  638  /  642    99 %\n"
     ]
    },
    {
     "name": "stderr",
     "output_type": "stream",
     "text": [
      "Epoch 181/200 process: 99:   0%|          | 0/161 [00:14<?, ?it/s, loss=0.115]  \n"
     ]
    },
    {
     "name": "stdout",
     "output_type": "stream",
     "text": [
      "Average Loss:  3.04949896447215   Accuracy:  633  /  642    98 %\n"
     ]
    },
    {
     "name": "stderr",
     "output_type": "stream",
     "text": [
      "Epoch 182/200 process: 99:   0%|          | 0/161 [00:14<?, ?it/s, loss=0.154]   \n"
     ]
    },
    {
     "name": "stdout",
     "output_type": "stream",
     "text": [
      "Average Loss:  2.5717477545529164   Accuracy:  635  /  642    98 %\n"
     ]
    },
    {
     "name": "stderr",
     "output_type": "stream",
     "text": [
      "Epoch 183/200 process: 99:   0%|          | 0/161 [00:14<?, ?it/s, loss=0.00901] \n"
     ]
    },
    {
     "name": "stdout",
     "output_type": "stream",
     "text": [
      "Average Loss:  1.9461366383948189   Accuracy:  637  /  642    99 %\n"
     ]
    },
    {
     "name": "stderr",
     "output_type": "stream",
     "text": [
      "Epoch 184/200 process: 99:   0%|          | 0/161 [00:14<?, ?it/s, loss=0.00154] \n"
     ]
    },
    {
     "name": "stdout",
     "output_type": "stream",
     "text": [
      "Average Loss:  4.305921637640495   Accuracy:  633  /  642    98 %\n"
     ]
    },
    {
     "name": "stderr",
     "output_type": "stream",
     "text": [
      "Epoch 185/200 process: 99:   0%|          | 0/161 [00:14<?, ?it/s, loss=0.00935] \n"
     ]
    },
    {
     "name": "stdout",
     "output_type": "stream",
     "text": [
      "Average Loss:  3.309935758519714   Accuracy:  633  /  642    98 %\n"
     ]
    },
    {
     "name": "stderr",
     "output_type": "stream",
     "text": [
      "Epoch 186/200 process: 99:   0%|          | 0/161 [00:14<?, ?it/s, loss=0.0262] \n"
     ]
    },
    {
     "name": "stdout",
     "output_type": "stream",
     "text": [
      "Average Loss:  3.0681328852824663   Accuracy:  634  /  642    98 %\n"
     ]
    },
    {
     "name": "stderr",
     "output_type": "stream",
     "text": [
      "Epoch 187/200 process: 99:   0%|          | 0/161 [00:14<?, ?it/s, loss=0.261]   \n"
     ]
    },
    {
     "name": "stdout",
     "output_type": "stream",
     "text": [
      "Average Loss:  2.1207304576946626   Accuracy:  635  /  642    98 %\n"
     ]
    },
    {
     "name": "stderr",
     "output_type": "stream",
     "text": [
      "Epoch 188/200 process: 99:   0%|          | 0/161 [00:14<?, ?it/s, loss=0.0143]  \n"
     ]
    },
    {
     "name": "stdout",
     "output_type": "stream",
     "text": [
      "Average Loss:  2.0379781932201695   Accuracy:  638  /  642    99 %\n"
     ]
    },
    {
     "name": "stderr",
     "output_type": "stream",
     "text": [
      "Epoch 189/200 process: 99:   0%|          | 0/161 [00:14<?, ?it/s, loss=0.0505]  \n"
     ]
    },
    {
     "name": "stdout",
     "output_type": "stream",
     "text": [
      "Average Loss:  2.07616896604668   Accuracy:  636  /  642    99 %\n"
     ]
    },
    {
     "name": "stderr",
     "output_type": "stream",
     "text": [
      "Epoch 190/200 process: 99:   0%|          | 0/161 [00:14<?, ?it/s, loss=0.0365]  \n"
     ]
    },
    {
     "name": "stdout",
     "output_type": "stream",
     "text": [
      "Average Loss:  1.984245816085604   Accuracy:  636  /  642    99 %\n"
     ]
    },
    {
     "name": "stderr",
     "output_type": "stream",
     "text": [
      "Epoch 191/200 process: 99:   0%|          | 0/161 [00:14<?, ?it/s, loss=0.0103]  \n"
     ]
    },
    {
     "name": "stdout",
     "output_type": "stream",
     "text": [
      "Average Loss:  2.1081603664988506   Accuracy:  637  /  642    99 %\n"
     ]
    },
    {
     "name": "stderr",
     "output_type": "stream",
     "text": [
      "Epoch 192/200 process: 99:   0%|          | 0/161 [00:14<?, ?it/s, loss=0.0942]  \n"
     ]
    },
    {
     "name": "stdout",
     "output_type": "stream",
     "text": [
      "Average Loss:  2.777050384451286   Accuracy:  633  /  642    98 %\n"
     ]
    },
    {
     "name": "stderr",
     "output_type": "stream",
     "text": [
      "Epoch 193/200 process: 99:   0%|          | 0/161 [00:14<?, ?it/s, loss=0.0404] \n"
     ]
    },
    {
     "name": "stdout",
     "output_type": "stream",
     "text": [
      "Average Loss:  2.1948548158579797   Accuracy:  635  /  642    98 %\n"
     ]
    },
    {
     "name": "stderr",
     "output_type": "stream",
     "text": [
      "Epoch 194/200 process: 99:   0%|          | 0/161 [00:14<?, ?it/s, loss=0.0507]  \n"
     ]
    },
    {
     "name": "stdout",
     "output_type": "stream",
     "text": [
      "Average Loss:  2.7192300001152034   Accuracy:  636  /  642    99 %\n"
     ]
    },
    {
     "name": "stderr",
     "output_type": "stream",
     "text": [
      "Epoch 195/200 process: 99:   0%|          | 0/161 [00:14<?, ?it/s, loss=0.0118]  \n"
     ]
    },
    {
     "name": "stdout",
     "output_type": "stream",
     "text": [
      "Average Loss:  2.0179576597656705   Accuracy:  636  /  642    99 %\n"
     ]
    },
    {
     "name": "stderr",
     "output_type": "stream",
     "text": [
      "Epoch 196/200 process: 99:   0%|          | 0/161 [00:14<?, ?it/s, loss=0.31]    \n"
     ]
    },
    {
     "name": "stdout",
     "output_type": "stream",
     "text": [
      "Average Loss:  2.710764524050319   Accuracy:  635  /  642    98 %\n"
     ]
    },
    {
     "name": "stderr",
     "output_type": "stream",
     "text": [
      "Epoch 197/200 process: 99:   0%|          | 0/161 [00:14<?, ?it/s, loss=0.00236] \n"
     ]
    },
    {
     "name": "stdout",
     "output_type": "stream",
     "text": [
      "Average Loss:  2.6016785071478807   Accuracy:  634  /  642    98 %\n"
     ]
    },
    {
     "name": "stderr",
     "output_type": "stream",
     "text": [
      "Epoch 198/200 process: 99:   0%|          | 0/161 [00:14<?, ?it/s, loss=0.00213] \n"
     ]
    },
    {
     "name": "stdout",
     "output_type": "stream",
     "text": [
      "Average Loss:  1.7001495297627116   Accuracy:  637  /  642    99 %\n"
     ]
    },
    {
     "name": "stderr",
     "output_type": "stream",
     "text": [
      "Epoch 199/200 process: 99:   0%|          | 0/161 [00:14<?, ?it/s, loss=0.0256]  \n"
     ]
    },
    {
     "name": "stdout",
     "output_type": "stream",
     "text": [
      "Average Loss:  2.047776258164049   Accuracy:  637  /  642    99 %\n"
     ]
    },
    {
     "name": "stderr",
     "output_type": "stream",
     "text": [
      "Epoch 200/200 process: 99:   0%|          | 0/161 [00:14<?, ?it/s, loss=0.302]  \n"
     ]
    },
    {
     "name": "stdout",
     "output_type": "stream",
     "text": [
      "Average Loss:  1.7432453534929664   Accuracy:  638  /  642    99 %\n"
     ]
    }
   ],
   "source": [
    "\n",
    "start_epoch = 0\n",
    "last_epoch=200\n",
    "for epoch in range(start_epoch, last_epoch):\n",
    "    train(epoch)\n",
    "    test(epoch)\n",
    "    scheduler.step()"
   ]
  },
  {
   "cell_type": "markdown",
   "metadata": {},
   "source": [
    "## Converting from tensor to list"
   ]
  },
  {
   "cell_type": "code",
   "execution_count": 8,
   "metadata": {},
   "outputs": [],
   "source": [
    "y_true1=[]\n",
    "for i in range(len(y_true)):\n",
    "    for index,value in enumerate(y_true[i]):\n",
    "        #print(index,value)\n",
    "        y_true1.append(value.item())\n",
    "\n",
    "y_pred1=[]\n",
    "for i in range(len(y_pred)):\n",
    "    for index,value in enumerate(y_pred[i]):\n",
    "        #print(index,value)\n",
    "        y_pred1.append(value.item())"
   ]
  },
  {
   "cell_type": "markdown",
   "metadata": {},
   "source": [
    "## Plot Confusion Matrix"
   ]
  },
  {
   "cell_type": "code",
   "execution_count": 9,
   "metadata": {},
   "outputs": [
    {
     "name": "stdout",
     "output_type": "stream",
     "text": [
      "Confusion matrix, without normalization\n",
      "[[41279  1614    71    36]\n",
      " [  361 44222    10     7]\n",
      " [   21     1  9550    28]\n",
      " [    0     9    13 31178]]\n"
     ]
    },
    {
     "data": {
      "image/png": "[encoded data removed]",
      "text/plain": [
       "<Figure size 432x360 with 2 Axes>"
      ]
     },
     "metadata": {
      "needs_background": "light"
     },
     "output_type": "display_data"
    }
   ],
   "source": [
    "\n",
    "from sklearn.metrics import confusion_matrix\n",
    "import itertools\n",
    "import matplotlib.pylab as plt\n",
    "\n",
    "classes=dataset.classes\n",
    "\n",
    "cm=confusion_matrix(y_true=y_true1,y_pred=y_pred1)\n",
    "\n",
    "\n",
    "def plot_confusion_matrix(cm, classes,\n",
    "                        normalize=False,\n",
    "                        title='Confusion matrix',\n",
    "                        cmap=plt.cm.Blues):\n",
    "    \"\"\"\n",
    "    This function prints and plots the confusion matrix.\n",
    "    Normalization can be applied by setting `normalize=True`.\n",
    "    \"\"\"\n",
    "    plt.imshow(cm, interpolation='nearest', cmap=cmap)\n",
    "    plt.title(title)\n",
    "    plt.colorbar()\n",
    "    tick_marks = np.arange(len(classes))\n",
    "    plt.xticks(tick_marks, classes, rotation=90)\n",
    "    plt.yticks(tick_marks, classes)\n",
    "\n",
    "    if normalize:\n",
    "        cm = cm.astype('float') / cm.sum(axis=1)[:, np.newaxis]\n",
    "        print(\"Normalized confusion matrix\")\n",
    "    else:\n",
    "        print('Confusion matrix, without normalization')\n",
    "\n",
    "    print(cm)\n",
    "\n",
    "    thresh = cm.max() / 2.\n",
    "    for i, j in itertools.product(range(cm.shape[0]), range(cm.shape[1])):\n",
    "        plt.text(j, i, cm[i, j],\n",
    "            horizontalalignment=\"center\",\n",
    "            color=\"white\" if cm[i, j] > thresh else \"black\")\n",
    "\n",
    "    plt.tight_layout()\n",
    "    plt.ylabel('True label')\n",
    "    plt.xlabel('Predicted label')\n",
    "\n",
    "cm_plot_labels = [test_label]\n",
    "plt.rcParams[\"figure.figsize\"] = (6,5)\n",
    "plot_confusion_matrix(cm=cm, classes=classes, title='Confusion Matrix')\n",
    "\n"
   ]
  },
  {
   "cell_type": "markdown",
   "metadata": {},
   "source": [
    "## Classification Report"
   ]
  },
  {
   "cell_type": "code",
   "execution_count": 10,
   "metadata": {},
   "outputs": [
    {
     "name": "stdout",
     "output_type": "stream",
     "text": [
      "                                    precision    recall  f1-score   support\n",
      "\n",
      "                         Black_rot       0.99      0.96      0.98     43000\n",
      "              Esca_(Black_Measles)       0.96      0.99      0.98     44600\n",
      "                           Healthy       0.99      0.99      0.99      9600\n",
      "Leaf_blight_(Isariopsis_Leaf_Spot)       1.00      1.00      1.00     31200\n",
      "\n",
      "                          accuracy                           0.98    128400\n",
      "                         macro avg       0.99      0.99      0.99    128400\n",
      "                      weighted avg       0.98      0.98      0.98    128400\n",
      "\n"
     ]
    }
   ],
   "source": [
    "from sklearn.metrics import classification_report\n",
    "print(classification_report(y_true1, y_pred1,target_names=dataset.classes))"
   ]
  },
  {
   "cell_type": "markdown",
   "metadata": {},
   "source": [
    "- **First, we convert the tensors to get rid of the redundancy inside. Then we append the tensors as a list again.**"
   ]
  },
  {
   "cell_type": "code",
   "execution_count": 11,
   "metadata": {},
   "outputs": [],
   "source": [
    "losses1=[]\n",
    "losses1.append(torch.Tensor(losses_train))\n",
    "losses2=[]\n",
    "for i in range(len(losses1)):\n",
    "    for index,value in enumerate(losses1[i]):\n",
    "        #print(index,value)\n",
    "        losses2.append(value.item())"
   ]
  },
  {
   "cell_type": "markdown",
   "metadata": {},
   "source": [
    "## Learning Curve"
   ]
  },
  {
   "cell_type": "code",
   "execution_count": 12,
   "metadata": {},
   "outputs": [
    {
     "data": {
      "image/png": "[encoded data removed]",
      "text/plain": [
       "<Figure size 432x360 with 1 Axes>"
      ]
     },
     "metadata": {
      "needs_background": "light"
     },
     "output_type": "display_data"
    }
   ],
   "source": [
    "plt.plot(train_accu)\n",
    "plt.plot(eval_accu)\n",
    "plt.xlabel('epoch')\n",
    "plt.ylabel('accuracy')\n",
    "plt.legend(['Train','Valid'])\n",
    "plt.title('Train vs Valid Accuracy')\n",
    "plt.rcParams[\"figure.figsize\"] = (10,10)\n",
    "plt.show()\n",
    " "
   ]
  }
 ],
 "metadata": {
  "interpreter": {
   "hash": "8d3e4bd268d7d1a7a0f81daf00463682054760c90b35c2e5c02626f16d005449"
  },
  "kernelspec": {
   "display_name": "Python 3 (ipykernel)",
   "language": "python",
   "name": "python3"
  },
  "language_info": {
   "codemirror_mode": {
    "name": "ipython",
    "version": 3
   },
   "file_extension": ".py",
   "mimetype": "text/x-python",
   "name": "python",
   "nbconvert_exporter": "python",
   "pygments_lexer": "ipython3",
   "version": "3.9.7"
  }
 },
 "nbformat": 4,
 "nbformat_minor": 2
}
